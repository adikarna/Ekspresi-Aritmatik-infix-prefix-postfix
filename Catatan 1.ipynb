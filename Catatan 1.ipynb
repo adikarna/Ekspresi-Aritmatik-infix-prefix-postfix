{
 "cells": [
  {
   "cell_type": "code",
   "execution_count": 1,
   "metadata": {
    "collapsed": false
   },
   "outputs": [
    {
     "ename": "SyntaxError",
     "evalue": "invalid syntax (<ipython-input-1-cda072b232a0>, line 1)",
     "output_type": "error",
     "traceback": [
      "\u001b[0;36m  File \u001b[0;32m\"<ipython-input-1-cda072b232a0>\"\u001b[0;36m, line \u001b[0;32m1\u001b[0m\n\u001b[0;31m    STRUKTUR DATA\u001b[0m\n\u001b[0m                ^\u001b[0m\n\u001b[0;31mSyntaxError\u001b[0m\u001b[0;31m:\u001b[0m invalid syntax\n"
     ]
    }
   ],
   "source": [
    "STRUKTUR DATA\n",
    "\n",
    "stacks = Tumpukan\n",
    "Operasi pada stacks\n",
    "-stack(),inisialisasi stack kosong.\n",
    "-push(data),penambahan data.\n",
    "-pop(),penghapusan data pada atas.\n",
    "-peek(),informasi pada letas atas.\n",
    "-isEmpty(),periksa apakah stack dalam keadaaan kosong.\n",
    "-size(),informasi data yang terdapat pada stack.\n",
    "queues\n",
    "\n",
    "\n",
    "\n",
    "code:\n",
    "def stack():\n",
    "    s=[]\n",
    "    return(s)\n",
    "def push(s,data):\n",
    "    s.append(data)\n",
    "def pop(s):\n",
    "    data+s.pop()\n",
    "    return(data)\n",
    "def peek(s0:\n",
    "    return(s[len(s)-1]))\n",
    "def is Empty(s):\n",
    "    return(s==[])\n",
    "def size(s):\n",
    "    return(len(s))\n",
    "lists\n",
    "\n",
    "Delimeter matching\n",
    "1.baca tiap karakter pada string matematika.\n",
    "2.jika karakter adalah kurung buka,maka masukkan dalam stack.\n",
    "3.jika karakter adalah kurung tutup,ada yang harus diperiksa,yaitu:\n",
    "    -jika stack keadaan empty,maka jumlah kurung tutup lebih banyak daripada kurung buku.\n",
    "    -jika stack keadaan empty, \n"
   ]
  },
  {
   "cell_type": "code",
   "execution_count": 5,
   "metadata": {
    "collapsed": false
   },
   "outputs": [
    {
     "ename": "SyntaxError",
     "evalue": "invalid syntax (<ipython-input-5-4ccf6496d55f>, line 1)",
     "output_type": "error",
     "traceback": [
      "\u001b[0;36m  File \u001b[0;32m\"<ipython-input-5-4ccf6496d55f>\"\u001b[0;36m, line \u001b[0;32m1\u001b[0m\n\u001b[0;31m    code:\u001b[0m\n\u001b[0m         ^\u001b[0m\n\u001b[0;31mSyntaxError\u001b[0m\u001b[0;31m:\u001b[0m invalid syntax\n"
     ]
    }
   ],
   "source": [
    "cara membuat fungsi balik kata :\n",
    "\n",
    "def balik(teks):\n",
    "    a=stack()\n",
    "    hasil=''\n",
    "    for i in range(len(teks)):\n",
    "        push(a,teks[i])\n",
    "    for i in range(len(teks)):\n",
    "        hasil=hasil+pop(a)\n",
    "    return hasil\n",
    "\n",
    "print(balik(\"arek\"))"
   ]
  },
  {
   "cell_type": "code",
   "execution_count": 0,
   "metadata": {
    "collapsed": false
   },
   "outputs": [
   ],
   "source": [
    "Ekspresi Aritmatik infix, prefix, postfix\n",
    "pre- sebelum dua  buah operan pre + AB\n",
    "post - sesudah dua buah operan post AB+\n",
    "prefi\n",
    "(A+B)xc\n",
    "-pre *+AB c\n",
    "-post AB+C*\n",
    "(A+B)*(C+D)\n",
    "-pre *AB+CD \n",
    "-post AB+CD+*\n",
    "A+B*C\n",
    "\n",
    "\n"
   ]
  }
 ],
 "metadata": {
  "kernelspec": {
   "display_name": "Python 3 (Anaconda 5)",
   "language": "python",
   "name": "anaconda5"
  },
  "language_info": {
   "codemirror_mode": {
    "name": "ipython",
    "version": 3
   },
   "file_extension": ".py",
   "mimetype": "text/x-python",
   "name": "python",
   "nbconvert_exporter": "python",
   "pygments_lexer": "ipython3",
   "version": "3.6.6"
  }
 },
 "nbformat": 4,
 "nbformat_minor": 0
}